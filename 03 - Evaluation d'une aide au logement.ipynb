{
 "cells": [
  {
   "cell_type": "code",
   "execution_count": 1,
   "id": "6988b068",
   "metadata": {},
   "outputs": [],
   "source": [
    "from openfisca_core.simulation_builder import SimulationBuilder\n",
    "from openfisca_france import CountryTaxBenefitSystem\n",
    "\n",
    "tax_benefit_system = CountryTaxBenefitSystem()\n",
    "\n",
    "mois = '2022-08'\n",
    "simulation_data_aide_logement = {\n",
    "    'individus': {\n",
    "        '_': {\n",
    "            'date_naissance': {\n",
    "                mois: '2000-01-01'\n",
    "            }\n",
    "        }\n",
    "    },\n",
    "    'familles': {\n",
    "        '_': {\n",
    "            'parents': ['_']\n",
    "        }\n",
    "    },\n",
    "    'foyers_fiscaux': {\n",
    "        '_': {\n",
    "            'declarants': ['_']\n",
    "        }\n",
    "    },\n",
    "    'menages': {\n",
    "        '_': {\n",
    "            'personne_de_reference': ['_'],\n",
    "            'loyer': {\n",
    "                mois: 500\n",
    "            },\n",
    "            'depcom': { mois: '76351'},\n",
    "            'statut_occupation_logement': { mois: 'locataire_vide'},\n",
    "        }\n",
    "    }\n",
    "}\n",
    "\n",
    "simulation_builder = SimulationBuilder()\n",
    "simulation_aide_logement = simulation_builder.build_from_entities(tax_benefit_system, simulation_data_aide_logement)"
   ]
  },
  {
   "cell_type": "code",
   "execution_count": 2,
   "id": "2a1f5f63",
   "metadata": {},
   "outputs": [
    {
     "data": {
      "text/plain": [
       "array([272.24], dtype=float32)"
      ]
     },
     "execution_count": 2,
     "metadata": {},
     "output_type": "execute_result"
    }
   ],
   "source": [
    "simulation_aide_logement.trace = True\n",
    "aide_logement = simulation_aide_logement.calculate('aide_logement', mois)\n",
    "aide_logement"
   ]
  },
  {
   "cell_type": "code",
   "execution_count": null,
   "id": "446602d2",
   "metadata": {},
   "outputs": [],
   "source": []
  }
 ],
 "metadata": {
  "kernelspec": {
   "display_name": "Python 3 (ipykernel)",
   "language": "python",
   "name": "python3"
  },
  "language_info": {
   "codemirror_mode": {
    "name": "ipython",
    "version": 3
   },
   "file_extension": ".py",
   "mimetype": "text/x-python",
   "name": "python",
   "nbconvert_exporter": "python",
   "pygments_lexer": "ipython3",
   "version": "3.7.13"
  }
 },
 "nbformat": 4,
 "nbformat_minor": 5
}
