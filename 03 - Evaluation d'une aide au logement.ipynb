{
 "cells": [
  {
   "cell_type": "code",
   "execution_count": 1,
   "id": "24ac7cae",
   "metadata": {},
   "outputs": [
    {
     "name": "stdout",
     "output_type": "stream",
     "text": [
      "Requirement already satisfied: OpenFisca-France==116.17.1 in /home/thomas/.pyenv/versions/3.7.13/envs/caf/lib/python3.7/site-packages (116.17.1)\n",
      "Requirement already satisfied: OpenFisca-Core<36.0,>=35.2.0 in /home/thomas/.pyenv/versions/3.7.13/envs/caf/lib/python3.7/site-packages (from OpenFisca-France==116.17.1) (35.8.4)\n",
      "Requirement already satisfied: nptyping==1.4.4 in /home/thomas/.pyenv/versions/3.7.13/envs/caf/lib/python3.7/site-packages (from OpenFisca-Core<36.0,>=35.2.0->OpenFisca-France==116.17.1) (1.4.4)\n",
      "Requirement already satisfied: numexpr<=3.0,>=2.7.0 in /home/thomas/.pyenv/versions/3.7.13/envs/caf/lib/python3.7/site-packages (from OpenFisca-Core<36.0,>=35.2.0->OpenFisca-France==116.17.1) (2.8.3)\n",
      "Requirement already satisfied: PyYAML>=3.10 in /home/thomas/.pyenv/versions/3.7.13/envs/caf/lib/python3.7/site-packages (from OpenFisca-Core<36.0,>=35.2.0->OpenFisca-France==116.17.1) (6.0)\n",
      "Requirement already satisfied: numpy<1.21,>=1.11 in /home/thomas/.pyenv/versions/3.7.13/envs/caf/lib/python3.7/site-packages (from OpenFisca-Core<36.0,>=35.2.0->OpenFisca-France==116.17.1) (1.20.3)\n",
      "Requirement already satisfied: pytest<6.0.0,>=4.4.1 in /home/thomas/.pyenv/versions/3.7.13/envs/caf/lib/python3.7/site-packages (from OpenFisca-Core<36.0,>=35.2.0->OpenFisca-France==116.17.1) (5.4.3)\n",
      "Requirement already satisfied: dpath<3.0.0,>=1.5.0 in /home/thomas/.pyenv/versions/3.7.13/envs/caf/lib/python3.7/site-packages (from OpenFisca-Core<36.0,>=35.2.0->OpenFisca-France==116.17.1) (2.0.6)\n",
      "Requirement already satisfied: typing-extensions==3.10.0.2 in /home/thomas/.pyenv/versions/3.7.13/envs/caf/lib/python3.7/site-packages (from OpenFisca-Core<36.0,>=35.2.0->OpenFisca-France==116.17.1) (3.10.0.2)\n",
      "Requirement already satisfied: sortedcontainers==2.2.2 in /home/thomas/.pyenv/versions/3.7.13/envs/caf/lib/python3.7/site-packages (from OpenFisca-Core<36.0,>=35.2.0->OpenFisca-France==116.17.1) (2.2.2)\n",
      "Requirement already satisfied: psutil<6.0.0,>=5.4.7 in /home/thomas/.pyenv/versions/3.7.13/envs/caf/lib/python3.7/site-packages (from OpenFisca-Core<36.0,>=35.2.0->OpenFisca-France==116.17.1) (5.9.1)\n",
      "Requirement already satisfied: typish>=1.7.0 in /home/thomas/.pyenv/versions/3.7.13/envs/caf/lib/python3.7/site-packages (from nptyping==1.4.4->OpenFisca-Core<36.0,>=35.2.0->OpenFisca-France==116.17.1) (1.9.3)\n",
      "Requirement already satisfied: packaging in /home/thomas/.pyenv/versions/3.7.13/envs/caf/lib/python3.7/site-packages (from numexpr<=3.0,>=2.7.0->OpenFisca-Core<36.0,>=35.2.0->OpenFisca-France==116.17.1) (21.3)\n",
      "Requirement already satisfied: more-itertools>=4.0.0 in /home/thomas/.pyenv/versions/3.7.13/envs/caf/lib/python3.7/site-packages (from pytest<6.0.0,>=4.4.1->OpenFisca-Core<36.0,>=35.2.0->OpenFisca-France==116.17.1) (8.14.0)\n",
      "Requirement already satisfied: pluggy<1.0,>=0.12 in /home/thomas/.pyenv/versions/3.7.13/envs/caf/lib/python3.7/site-packages (from pytest<6.0.0,>=4.4.1->OpenFisca-Core<36.0,>=35.2.0->OpenFisca-France==116.17.1) (0.13.1)\n",
      "Requirement already satisfied: attrs>=17.4.0 in /home/thomas/.pyenv/versions/3.7.13/envs/caf/lib/python3.7/site-packages (from pytest<6.0.0,>=4.4.1->OpenFisca-Core<36.0,>=35.2.0->OpenFisca-France==116.17.1) (22.1.0)\n",
      "Requirement already satisfied: wcwidth in /home/thomas/.pyenv/versions/3.7.13/envs/caf/lib/python3.7/site-packages (from pytest<6.0.0,>=4.4.1->OpenFisca-Core<36.0,>=35.2.0->OpenFisca-France==116.17.1) (0.2.5)\n",
      "Requirement already satisfied: importlib-metadata>=0.12 in /home/thomas/.pyenv/versions/3.7.13/envs/caf/lib/python3.7/site-packages (from pytest<6.0.0,>=4.4.1->OpenFisca-Core<36.0,>=35.2.0->OpenFisca-France==116.17.1) (4.12.0)\n",
      "Requirement already satisfied: py>=1.5.0 in /home/thomas/.pyenv/versions/3.7.13/envs/caf/lib/python3.7/site-packages (from pytest<6.0.0,>=4.4.1->OpenFisca-Core<36.0,>=35.2.0->OpenFisca-France==116.17.1) (1.11.0)\n",
      "Requirement already satisfied: zipp>=0.5 in /home/thomas/.pyenv/versions/3.7.13/envs/caf/lib/python3.7/site-packages (from importlib-metadata>=0.12->pytest<6.0.0,>=4.4.1->OpenFisca-Core<36.0,>=35.2.0->OpenFisca-France==116.17.1) (3.8.1)\n",
      "Requirement already satisfied: pyparsing!=3.0.5,>=2.0.2 in /home/thomas/.pyenv/versions/3.7.13/envs/caf/lib/python3.7/site-packages (from packaging->numexpr<=3.0,>=2.7.0->OpenFisca-Core<36.0,>=35.2.0->OpenFisca-France==116.17.1) (3.0.9)\n",
      "\u001b[33mWARNING: You are using pip version 22.0.4; however, version 22.2.2 is available.\n",
      "You should consider upgrading via the '/home/thomas/.pyenv/versions/3.7.13/envs/caf/bin/python3.7 -m pip install --upgrade pip' command.\u001b[0m\u001b[33m\n",
      "\u001b[0mNote: you may need to restart the kernel to use updated packages.\n"
     ]
    }
   ],
   "source": [
    "%pip install OpenFisca-France==116.17.1"
   ]
  },
  {
   "cell_type": "code",
   "execution_count": 1,
   "id": "6988b068",
   "metadata": {},
   "outputs": [],
   "source": [
    "from openfisca_core.simulation_builder import SimulationBuilder\n",
    "from openfisca_france import CountryTaxBenefitSystem\n",
    "\n",
    "tax_benefit_system = CountryTaxBenefitSystem()\n",
    "\n",
    "mois = '2022-08'\n",
    "simulation_data_aide_logement = {\n",
    "    'individus': {\n",
    "        '_': {\n",
    "            'date_naissance': {\n",
    "                mois: '2000-01-01'\n",
    "            }\n",
    "        }\n",
    "    },\n",
    "    'familles': {\n",
    "        '_': {\n",
    "            'parents': ['_']\n",
    "        }\n",
    "    },\n",
    "    'foyers_fiscaux': {\n",
    "        '_': {\n",
    "            'declarants': ['_']\n",
    "        }\n",
    "    },\n",
    "    'menages': {\n",
    "        '_': {\n",
    "            'personne_de_reference': ['_'],\n",
    "            'loyer': {\n",
    "                mois: 500\n",
    "            },\n",
    "            'depcom': { mois: '75056'},\n",
    "            'statut_occupation_logement': { mois: 'locataire_vide'},\n",
    "        }\n",
    "    }\n",
    "}\n",
    "\n",
    "simulation_builder = SimulationBuilder()\n",
    "simulation_aide_logement = simulation_builder.build_from_entities(tax_benefit_system, simulation_data_aide_logement)"
   ]
  },
  {
   "cell_type": "code",
   "execution_count": 2,
   "id": "2a1f5f63",
   "metadata": {},
   "outputs": [
    {
     "data": {
      "text/plain": [
       "array([272.24], dtype=float32)"
      ]
     },
     "execution_count": 2,
     "metadata": {},
     "output_type": "execute_result"
    }
   ],
   "source": [
    "simulation_aide_logement.trace = True\n",
    "aide_logement = simulation_aide_logement.calculate('aide_logement', mois)\n",
    "aide_logement"
   ]
  },
  {
   "cell_type": "code",
   "execution_count": null,
   "id": "446602d2",
   "metadata": {},
   "outputs": [],
   "source": []
  }
 ],
 "metadata": {
  "kernelspec": {
   "display_name": "Python 3 (ipykernel)",
   "language": "python",
   "name": "python3"
  },
  "language_info": {
   "codemirror_mode": {
    "name": "ipython",
    "version": 3
   },
   "file_extension": ".py",
   "mimetype": "text/x-python",
   "name": "python",
   "nbconvert_exporter": "python",
   "pygments_lexer": "ipython3",
   "version": "3.7.13"
  }
 },
 "nbformat": 4,
 "nbformat_minor": 5
}
