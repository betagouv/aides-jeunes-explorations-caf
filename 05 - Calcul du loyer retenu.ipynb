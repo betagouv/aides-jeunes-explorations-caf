{
 "cells": [
  {
   "cell_type": "code",
   "execution_count": 55,
   "id": "2fd18231",
   "metadata": {},
   "outputs": [],
   "source": [
    "from openfisca_core.simulation_builder import SimulationBuilder\n",
    "from openfisca_france import CountryTaxBenefitSystem\n",
    "\n",
    "tax_benefit_system = CountryTaxBenefitSystem()\n",
    "\n",
    "mois = '2022-08'\n",
    "simulation_data_aide_logement = {\n",
    "    'individus': {\n",
    "        '_': {\n",
    "            'date_naissance': {\n",
    "                mois: '2000-01-01'\n",
    "            }\n",
    "        }\n",
    "    },\n",
    "    'familles': {\n",
    "        '_': {\n",
    "            'parents': ['_'],\n",
    "            'al_nb_personnes_a_charge': {\n",
    "                mois: 0\n",
    "            },\n",
    "            'al_couple': {\n",
    "                mois: False\n",
    "            },\n",
    "        }\n",
    "    },\n",
    "    'foyers_fiscaux': {\n",
    "        '_': {\n",
    "            'declarants': ['_']\n",
    "        }\n",
    "    },\n",
    "    'menages': {\n",
    "        '_': {\n",
    "            'personne_de_reference': ['_'],\n",
    "            'loyer': {\n",
    "                mois: 500\n",
    "            },\n",
    "            'depcom': { mois: '75056'},\n",
    "            'statut_occupation_logement': { mois: 'locataire_vide'},\n",
    "        }\n",
    "    }\n",
    "}\n",
    "\n",
    "simulation_builder = SimulationBuilder()"
   ]
  },
  {
   "cell_type": "code",
   "execution_count": 56,
   "id": "b97452ee",
   "metadata": {},
   "outputs": [
    {
     "data": {
      "text/plain": [
       "array([298.07], dtype=float32)"
      ]
     },
     "execution_count": 56,
     "metadata": {},
     "output_type": "execute_result"
    }
   ],
   "source": [
    "simulation_aide_logement = simulation_builder.build_from_entities(tax_benefit_system, simulation_data_aide_logement)\n",
    "simulation_aide_logement.trace = True\n",
    "aide_logement_loyer_retenu = simulation_aide_logement.calculate('aide_logement_loyer_retenu', mois)\n",
    "aide_logement_loyer_retenu"
   ]
  },
  {
   "cell_type": "code",
   "execution_count": 73,
   "id": "6fd57753",
   "metadata": {},
   "outputs": [],
   "source": [
    "from ipytree import Tree, Node\n",
    "\n",
    "def pprint_trace(tbs, node, parent=None, max_depth=10):\n",
    "    if max_depth<=0:\n",
    "        return\n",
    "\n",
    "    if parent is None:\n",
    "        t = Tree()\n",
    "        parent = t\n",
    "    n = Node(\"{}@{}@{} {}\".format(node.name, tbs.get_variable(node.name).entity.key, node.period, node.value))\n",
    "    n.opened = False\n",
    "    parent.add_node(n)\n",
    "    \n",
    "    for c in node.children:\n",
    "        pprint_trace(tbs, c, n, max_depth - 1)\n",
    "\n",
    "    return parent\n"
   ]
  },
  {
   "cell_type": "code",
   "execution_count": 74,
   "id": "6901fed4",
   "metadata": {},
   "outputs": [
    {
     "data": {
      "application/vnd.jupyter.widget-view+json": {
       "model_id": "c7d592892dfc4e47a35fbf93f5585f67",
       "version_major": 2,
       "version_minor": 0
      },
      "text/plain": [
       "Tree(nodes=(Node(name='aide_logement_loyer_retenu@famille@2022-08 [298.07]', nodes=(Node(name='aide_logement_l…"
      ]
     },
     "metadata": {},
     "output_type": "display_data"
    }
   ],
   "source": [
    "pprint_trace(tax_benefit_system, simulation_aide_logement.tracer.trees[0])"
   ]
  },
  {
   "cell_type": "code",
   "execution_count": null,
   "id": "9c138aec",
   "metadata": {},
   "outputs": [],
   "source": []
  }
 ],
 "metadata": {
  "kernelspec": {
   "display_name": "Python 3 (ipykernel)",
   "language": "python",
   "name": "python3"
  },
  "language_info": {
   "codemirror_mode": {
    "name": "ipython",
    "version": 3
   },
   "file_extension": ".py",
   "mimetype": "text/x-python",
   "name": "python",
   "nbconvert_exporter": "python",
   "pygments_lexer": "ipython3",
   "version": "3.7.13"
  }
 },
 "nbformat": 4,
 "nbformat_minor": 5
}
