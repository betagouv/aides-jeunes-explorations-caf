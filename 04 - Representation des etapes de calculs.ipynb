{
 "cells": [
  {
   "cell_type": "code",
   "execution_count": 1,
   "id": "3e5a21d7",
   "metadata": {},
   "outputs": [
    {
     "data": {
      "text/plain": [
       "array([272.24], dtype=float32)"
      ]
     },
     "execution_count": 1,
     "metadata": {},
     "output_type": "execute_result"
    }
   ],
   "source": [
    "from openfisca_core.simulation_builder import SimulationBuilder\n",
    "from openfisca_france import CountryTaxBenefitSystem\n",
    "\n",
    "tax_benefit_system = CountryTaxBenefitSystem()\n",
    "\n",
    "mois = '2022-08'\n",
    "simulation_data_aide_logement = {\n",
    "    'individus': {\n",
    "        '_': {\n",
    "            'date_naissance': {\n",
    "                mois: '2000-01-01'\n",
    "            }\n",
    "        }\n",
    "    },\n",
    "    'familles': {\n",
    "        '_': {\n",
    "            'parents': ['_']\n",
    "        }\n",
    "    },\n",
    "    'foyers_fiscaux': {\n",
    "        '_': {\n",
    "            'declarants': ['_']\n",
    "        }\n",
    "    },\n",
    "    'menages': {\n",
    "        '_': {\n",
    "            'personne_de_reference': ['_'],\n",
    "            'loyer': {\n",
    "                mois: 500\n",
    "            },\n",
    "            'depcom': { mois: '76351'},\n",
    "            'statut_occupation_logement': { mois: 'locataire_vide'},\n",
    "        }\n",
    "    }\n",
    "}\n",
    "\n",
    "simulation_builder = SimulationBuilder()\n",
    "simulation_aide_logement = simulation_builder.build_from_entities(tax_benefit_system, simulation_data_aide_logement)\n",
    "\n",
    "simulation_aide_logement.trace = True\n",
    "aide_logement = simulation_aide_logement.calculate('aide_logement', mois)\n",
    "aide_logement\n"
   ]
  },
  {
   "cell_type": "code",
   "execution_count": 4,
   "id": "d676fc84",
   "metadata": {},
   "outputs": [],
   "source": [
    "from ipytree import Tree, Node\n",
    "\n",
    "def pprint_trace(node, parent=None, max_depth=10):\n",
    "    if max_depth<=0:\n",
    "        return\n",
    "\n",
    "    if parent is None:\n",
    "        t = Tree()\n",
    "        parent = t\n",
    "    n = Node(\"{}@{} {}\".format(node.name, node.period, node.value))\n",
    "    n.opened = False\n",
    "    parent.add_node(n)\n",
    "    \n",
    "    for c in node.children:\n",
    "        pprint_trace(c, n, max_depth - 1)\n",
    "\n",
    "    return parent\n"
   ]
  },
  {
   "cell_type": "code",
   "execution_count": 5,
   "id": "099137d6",
   "metadata": {},
   "outputs": [
    {
     "data": {
      "application/vnd.jupyter.widget-view+json": {
       "model_id": "9232fcbf28c04acc87c1a205ef5df071",
       "version_major": 2,
       "version_minor": 0
      },
      "text/plain": [
       "Tree(nodes=(Node(name='aide_logement@2022-08 [272.24]', nodes=(Node(name='apl@2022-08 [0.]', nodes=(Node(name=…"
      ]
     },
     "metadata": {},
     "output_type": "display_data"
    }
   ],
   "source": [
    "pprint_trace(simulation_aide_logement.tracer.trees[0])"
   ]
  },
  {
   "cell_type": "code",
   "execution_count": null,
   "id": "1811384c",
   "metadata": {},
   "outputs": [],
   "source": []
  }
 ],
 "metadata": {
  "kernelspec": {
   "display_name": "Python 3 (ipykernel)",
   "language": "python",
   "name": "python3"
  },
  "language_info": {
   "codemirror_mode": {
    "name": "ipython",
    "version": 3
   },
   "file_extension": ".py",
   "mimetype": "text/x-python",
   "name": "python",
   "nbconvert_exporter": "python",
   "pygments_lexer": "ipython3",
   "version": "3.7.13"
  }
 },
 "nbformat": 4,
 "nbformat_minor": 5
}
