{
 "cells": [
  {
   "cell_type": "code",
   "execution_count": 4,
   "id": "bb860556",
   "metadata": {},
   "outputs": [],
   "source": [
    "from openfisca_core.simulation_builder import SimulationBuilder\n",
    "from openfisca_france import CountryTaxBenefitSystem"
   ]
  },
  {
   "cell_type": "code",
   "execution_count": 5,
   "id": "1218e401",
   "metadata": {},
   "outputs": [],
   "source": [
    "tax_benefit_system = CountryTaxBenefitSystem()"
   ]
  },
  {
   "cell_type": "code",
   "execution_count": 8,
   "id": "ceb84af6",
   "metadata": {},
   "outputs": [],
   "source": [
    "simulation_data = {\n",
    "    'individus': {\n",
    "        '_': {\n",
    "            'date_naissance': {\n",
    "                '2000-01-01': '2000-01-01'\n",
    "            }\n",
    "        }\n",
    "    },\n",
    "    'familles': {\n",
    "        '_': {\n",
    "            'parents': ['_']\n",
    "        }\n",
    "    },\n",
    "    'foyers_fiscaux': {\n",
    "        '_': {\n",
    "            'declarants': ['_']\n",
    "        }\n",
    "    },\n",
    "    'menages': {\n",
    "        '_': {\n",
    "            'personne_de_reference': ['_']\n",
    "        }\n",
    "    }\n",
    "}\n",
    "\n",
    "simulation_builder = SimulationBuilder()\n",
    "simulation = simulation_builder.build_from_entities(tax_benefit_system, simulation_data)"
   ]
  },
  {
   "cell_type": "code",
   "execution_count": 9,
   "id": "948d015a",
   "metadata": {},
   "outputs": [
    {
     "data": {
      "text/plain": [
       "array([22], dtype=int32)"
      ]
     },
     "execution_count": 9,
     "metadata": {},
     "output_type": "execute_result"
    }
   ],
   "source": [
    "age = simulation.calculate('age', '2022-08')\n",
    "age"
   ]
  }
 ],
 "metadata": {
  "kernelspec": {
   "display_name": "Python 3 (ipykernel)",
   "language": "python",
   "name": "python3"
  },
  "language_info": {
   "codemirror_mode": {
    "name": "ipython",
    "version": 3
   },
   "file_extension": ".py",
   "mimetype": "text/x-python",
   "name": "python",
   "nbconvert_exporter": "python",
   "pygments_lexer": "ipython3",
   "version": "3.7.13"
  }
 },
 "nbformat": 4,
 "nbformat_minor": 5
}
